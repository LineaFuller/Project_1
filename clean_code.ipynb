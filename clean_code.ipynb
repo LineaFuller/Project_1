{
 "cells": [
  {
   "cell_type": "code",
   "execution_count": 1,
   "metadata": {},
   "outputs": [],
   "source": [
    "import requests\n",
    "import json\n",
    "from pprint import pprint\n",
    "import pandas as pd\n",
    "import time "
   ]
  },
  {
   "cell_type": "code",
   "execution_count": 2,
   "metadata": {},
   "outputs": [
    {
     "data": {
      "text/html": "<div>\n<style scoped>\n    .dataframe tbody tr th:only-of-type {\n        vertical-align: middle;\n    }\n\n    .dataframe tbody tr th {\n        vertical-align: top;\n    }\n\n    .dataframe thead th {\n        text-align: right;\n    }\n</style>\n<table border=\"1\" class=\"dataframe\">\n  <thead>\n    <tr style=\"text-align: right;\">\n      <th></th>\n      <th>Year</th>\n      <th>Temperature</th>\n    </tr>\n  </thead>\n  <tbody>\n    <tr>\n      <th>0</th>\n      <td>1901</td>\n      <td>6.618749</td>\n    </tr>\n    <tr>\n      <th>1</th>\n      <td>1902</td>\n      <td>6.464327</td>\n    </tr>\n    <tr>\n      <th>2</th>\n      <td>1903</td>\n      <td>6.073844</td>\n    </tr>\n    <tr>\n      <th>3</th>\n      <td>1904</td>\n      <td>6.149883</td>\n    </tr>\n    <tr>\n      <th>4</th>\n      <td>1905</td>\n      <td>6.599617</td>\n    </tr>\n  </tbody>\n</table>\n</div>",
      "text/plain": "   Year  Temperature\n0  1901     6.618749\n1  1902     6.464327\n2  1903     6.073844\n3  1904     6.149883\n4  1905     6.599617"
     },
     "execution_count": 2,
     "metadata": {},
     "output_type": "execute_result"
    }
   ],
   "source": [
    "# USA Yearly change for Temperature\n",
    "url = \"http://climatedataapi.worldbank.org/climateweb/rest/v1/country/cru/tas/year/USA\"\n",
    "request = requests.get(url).json()\n",
    "# pprint(request)\n",
    "len(request)\n",
    "year = []\n",
    "data = []\n",
    "for x in range(len(request)):\n",
    "    year.append(request[x]['year'])\n",
    "    data.append(request[x]['data'])\n",
    "year_df = pd.DataFrame({\"Year\": year,\n",
    "                       \"Temperature\": data})\n",
    "\n",
    "year_df.head()\n",
    "\n"
   ]
  },
  {
   "cell_type": "code",
   "execution_count": 3,
   "metadata": {},
   "outputs": [
    {
     "data": {
      "text/html": "<div>\n<style scoped>\n    .dataframe tbody tr th:only-of-type {\n        vertical-align: middle;\n    }\n\n    .dataframe tbody tr th {\n        vertical-align: top;\n    }\n\n    .dataframe thead th {\n        text-align: right;\n    }\n</style>\n<table border=\"1\" class=\"dataframe\">\n  <thead>\n    <tr style=\"text-align: right;\">\n      <th></th>\n      <th>Year</th>\n      <th>Temperature</th>\n    </tr>\n  </thead>\n  <tbody>\n    <tr>\n      <th>0</th>\n      <td>1901</td>\n      <td>21.357021</td>\n    </tr>\n    <tr>\n      <th>1</th>\n      <td>1902</td>\n      <td>21.382462</td>\n    </tr>\n    <tr>\n      <th>2</th>\n      <td>1903</td>\n      <td>20.936884</td>\n    </tr>\n    <tr>\n      <th>3</th>\n      <td>1904</td>\n      <td>20.791357</td>\n    </tr>\n    <tr>\n      <th>4</th>\n      <td>1905</td>\n      <td>20.954510</td>\n    </tr>\n  </tbody>\n</table>\n</div>",
      "text/plain": "   Year  Temperature\n0  1901    21.357021\n1  1902    21.382462\n2  1903    20.936884\n3  1904    20.791357\n4  1905    20.954510"
     },
     "execution_count": 3,
     "metadata": {},
     "output_type": "execute_result"
    }
   ],
   "source": [
    "# AUS Yearly change for Temperature\n",
    "url = \"http://climatedataapi.worldbank.org/climateweb/rest/v1/country/cru/tas/year/AUS\"\n",
    "request = requests.get(url).json()\n",
    "# pprint(request)\n",
    "len(request)\n",
    "year = []\n",
    "data = []\n",
    "for x in range(len(request)):\n",
    "    year.append(request[x]['year'])\n",
    "    data.append(request[x]['data'])\n",
    "year_df = pd.DataFrame({\"Year\": year,\n",
    "                       \"Temperature\": data})\n",
    "\n",
    "year_df.head()"
   ]
  },
  {
   "cell_type": "code",
   "execution_count": null,
   "metadata": {},
   "outputs": [],
   "source": []
  }
 ],
 "metadata": {
  "kernelspec": {
   "display_name": "Python 3.8.8 64-bit ('base': conda)",
   "name": "python388jvsc74a57bd0dca0ade3e726a953b501b15e8e990130d2b7799f14cfd9f4271676035ebe5511"
  },
  "language_info": {
   "codemirror_mode": {
    "name": "ipython",
    "version": 3
   },
   "file_extension": ".py",
   "mimetype": "text/x-python",
   "name": "python",
   "nbconvert_exporter": "python",
   "pygments_lexer": "ipython3",
   "version": "3.8.8"
  },
  "orig_nbformat": 2
 },
 "nbformat": 4,
 "nbformat_minor": 2
}